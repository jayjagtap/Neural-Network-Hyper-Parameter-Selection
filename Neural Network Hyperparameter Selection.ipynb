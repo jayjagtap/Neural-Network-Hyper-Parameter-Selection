{
 "cells": [
  {
   "cell_type": "code",
   "execution_count": 70,
   "metadata": {
    "colab": {
     "base_uri": "https://localhost:8080/"
    },
    "id": "XjSTobUfMkiE",
    "outputId": "4c1329c6-2e86-4193-c6f7-4b515f48b7bd"
   },
   "outputs": [
    {
     "name": "stdout",
     "output_type": "stream",
     "text": [
      "Drive already mounted at /content/drive; to attempt to forcibly remount, call drive.mount(\"/content/drive\", force_remount=True).\n"
     ]
    }
   ],
   "source": [
    "from google.colab import drive\n",
    "drive.mount('/content/drive')"
   ]
  },
  {
   "cell_type": "code",
   "execution_count": 185,
   "metadata": {
    "id": "SrBk7u1ANc56"
   },
   "outputs": [],
   "source": [
    "import pandas as pd\n",
    "import numpy as np\n",
    "from sklearn.preprocessing import StandardScaler\n",
    "from keras.models import Sequential\n",
    "from keras.models import Input, InputLayer\n",
    "from keras.layers import Dense\n",
    "from keras.wrappers.scikit_learn import KerasRegressor\n",
    "from sklearn.model_selection import GridSearchCV\n",
    "from tensorflow import keras\n",
    "from tensorflow.keras import layers"
   ]
  },
  {
   "cell_type": "code",
   "execution_count": 72,
   "metadata": {
    "colab": {
     "base_uri": "https://localhost:8080/",
     "height": 411
    },
    "id": "yPcCZ4OsN_JF",
    "outputId": "79e97028-6714-4ab9-da37-fd89aad90a8f"
   },
   "outputs": [
    {
     "name": "stdout",
     "output_type": "stream",
     "text": [
      "        x1      x2      x3      x4      x5        y\n",
      "0   92.496  154.87  172.17  352.75  430.98   9823.9\n",
      "1  107.180  173.19  149.53  336.61  435.60  10459.0\n",
      "2   87.776  180.78  189.96  315.28  407.67   9369.0\n",
      "3   61.104  177.72  150.79  299.28  384.61   7846.2\n",
      "4   16.025  189.22  181.56  305.84  430.17   7599.5\n"
     ]
    },
    {
     "data": {
      "text/html": [
       "<div>\n",
       "<style scoped>\n",
       "    .dataframe tbody tr th:only-of-type {\n",
       "        vertical-align: middle;\n",
       "    }\n",
       "\n",
       "    .dataframe tbody tr th {\n",
       "        vertical-align: top;\n",
       "    }\n",
       "\n",
       "    .dataframe thead th {\n",
       "        text-align: right;\n",
       "    }\n",
       "</style>\n",
       "<table border=\"1\" class=\"dataframe\">\n",
       "  <thead>\n",
       "    <tr style=\"text-align: right;\">\n",
       "      <th></th>\n",
       "      <th>x1</th>\n",
       "      <th>x2</th>\n",
       "      <th>x3</th>\n",
       "      <th>x4</th>\n",
       "      <th>x5</th>\n",
       "      <th>y</th>\n",
       "    </tr>\n",
       "  </thead>\n",
       "  <tbody>\n",
       "    <tr>\n",
       "      <th>count</th>\n",
       "      <td>2300.000000</td>\n",
       "      <td>2300.000000</td>\n",
       "      <td>2300.000000</td>\n",
       "      <td>2300.000000</td>\n",
       "      <td>2300.000000</td>\n",
       "      <td>2300.000000</td>\n",
       "    </tr>\n",
       "    <tr>\n",
       "      <th>mean</th>\n",
       "      <td>77.525051</td>\n",
       "      <td>159.189647</td>\n",
       "      <td>173.982341</td>\n",
       "      <td>322.408904</td>\n",
       "      <td>401.632843</td>\n",
       "      <td>8873.421739</td>\n",
       "    </tr>\n",
       "    <tr>\n",
       "      <th>std</th>\n",
       "      <td>20.724126</td>\n",
       "      <td>20.588219</td>\n",
       "      <td>20.697149</td>\n",
       "      <td>20.637246</td>\n",
       "      <td>20.318110</td>\n",
       "      <td>873.056120</td>\n",
       "    </tr>\n",
       "    <tr>\n",
       "      <th>min</th>\n",
       "      <td>-0.650890</td>\n",
       "      <td>93.764000</td>\n",
       "      <td>96.975000</td>\n",
       "      <td>257.480000</td>\n",
       "      <td>327.330000</td>\n",
       "      <td>6418.700000</td>\n",
       "    </tr>\n",
       "    <tr>\n",
       "      <th>25%</th>\n",
       "      <td>63.790500</td>\n",
       "      <td>145.785000</td>\n",
       "      <td>160.037500</td>\n",
       "      <td>308.170000</td>\n",
       "      <td>387.915000</td>\n",
       "      <td>8252.925000</td>\n",
       "    </tr>\n",
       "    <tr>\n",
       "      <th>50%</th>\n",
       "      <td>77.319500</td>\n",
       "      <td>159.610000</td>\n",
       "      <td>173.970000</td>\n",
       "      <td>322.650000</td>\n",
       "      <td>401.650000</td>\n",
       "      <td>8786.200000</td>\n",
       "    </tr>\n",
       "    <tr>\n",
       "      <th>75%</th>\n",
       "      <td>91.196500</td>\n",
       "      <td>172.792500</td>\n",
       "      <td>187.572500</td>\n",
       "      <td>336.397500</td>\n",
       "      <td>415.332500</td>\n",
       "      <td>9381.350000</td>\n",
       "    </tr>\n",
       "    <tr>\n",
       "      <th>max</th>\n",
       "      <td>144.690000</td>\n",
       "      <td>227.420000</td>\n",
       "      <td>249.370000</td>\n",
       "      <td>392.830000</td>\n",
       "      <td>475.240000</td>\n",
       "      <td>12449.000000</td>\n",
       "    </tr>\n",
       "  </tbody>\n",
       "</table>\n",
       "</div>"
      ],
      "text/plain": [
       "                x1           x2  ...           x5             y\n",
       "count  2300.000000  2300.000000  ...  2300.000000   2300.000000\n",
       "mean     77.525051   159.189647  ...   401.632843   8873.421739\n",
       "std      20.724126    20.588219  ...    20.318110    873.056120\n",
       "min      -0.650890    93.764000  ...   327.330000   6418.700000\n",
       "25%      63.790500   145.785000  ...   387.915000   8252.925000\n",
       "50%      77.319500   159.610000  ...   401.650000   8786.200000\n",
       "75%      91.196500   172.792500  ...   415.332500   9381.350000\n",
       "max     144.690000   227.420000  ...   475.240000  12449.000000\n",
       "\n",
       "[8 rows x 6 columns]"
      ]
     },
     "execution_count": 72,
     "metadata": {
      "tags": []
     },
     "output_type": "execute_result"
    }
   ],
   "source": [
    "data = pd.read_csv(\"/content/drive/My Drive/Fall 20/IOT Analytics/Neural Nets project/5.csv\", header=None)\n",
    "data.columns = ['x1', 'x2', 'x3', 'x4', 'x5','y']\n",
    "print(data.head())\n",
    "data.describe()"
   ]
  },
  {
   "cell_type": "markdown",
   "metadata": {
    "id": "uVG_i-yihNSj"
   },
   "source": [
    "### Scale values using Standard Scaler \n"
   ]
  },
  {
   "cell_type": "code",
   "execution_count": 73,
   "metadata": {
    "colab": {
     "base_uri": "https://localhost:8080/"
    },
    "id": "JPI1Y32yQ9Np",
    "outputId": "acc4d474-2977-4c50-d46d-214647d2c176",
    "scrolled": true
   },
   "outputs": [
    {
     "name": "stdout",
     "output_type": "stream",
     "text": [
      "        x1      x2      x3      x4      x5\n",
      "0   92.496  154.87  172.17  352.75  430.98\n",
      "1  107.180  173.19  149.53  336.61  435.60\n",
      "2   87.776  180.78  189.96  315.28  407.67\n",
      "3   61.104  177.72  150.79  299.28  384.61\n",
      "4   16.025  189.22  181.56  305.84  430.17\n",
      "         y\n",
      "0   9823.9\n",
      "1  10459.0\n",
      "2   9369.0\n",
      "3   7846.2\n",
      "4   7599.5\n"
     ]
    }
   ],
   "source": [
    "X = data[['x1','x2','x3', 'x4', 'x5']]\n",
    "Y = data[['y']]\n",
    "print(X.head())\n",
    "print(Y.head())"
   ]
  },
  {
   "cell_type": "code",
   "execution_count": 74,
   "metadata": {
    "colab": {
     "base_uri": "https://localhost:8080/"
    },
    "id": "t5Rc4sFnggRX",
    "outputId": "6d06173b-7735-4878-8d4b-c6991acc7c38",
    "scrolled": true
   },
   "outputs": [
    {
     "name": "stdout",
     "output_type": "stream",
     "text": [
      "X shape:  (2300, 5)\n",
      "Y shape:  (2300, 1)\n",
      "X:  [[ 0.7225494  -0.20985719 -0.08758382  1.47053023  1.44469827]\n",
      " [ 1.43124966  0.68016557 -1.18169219  0.68827905  1.67213107]\n",
      " [ 0.494746    1.04890317  0.77214178 -0.34551387  0.29719641]\n",
      " [-0.7925363   0.90024216 -1.120801   -1.12097973 -0.83799848]\n",
      " [-2.96820361  1.45893549  0.36620052 -0.80303873  1.40482369]]\n",
      "Y:  [[ 1.0889162 ]\n",
      " [ 1.81651904]\n",
      " [ 0.56775964]\n",
      " [-1.17683743]\n",
      " [-1.45946949]]\n"
     ]
    }
   ],
   "source": [
    "scaler = StandardScaler()\n",
    "X = scaler.fit_transform(X)\n",
    "Y = scaler.fit_transform(Y)\n",
    "print(\"X shape: \" , X.shape)\n",
    "print(\"Y shape: \", Y.shape)\n",
    "print(\"X: \", X[:5])\n",
    "print(\"Y: \", Y[:5])"
   ]
  },
  {
   "cell_type": "markdown",
   "metadata": {
    "id": "Yb-wMOlOhqoV"
   },
   "source": [
    "### Divide train set and test set"
   ]
  },
  {
   "cell_type": "code",
   "execution_count": 75,
   "metadata": {
    "id": "fKc8zzCNSAyu"
   },
   "outputs": [],
   "source": [
    "train_set_X = X[:2000]\n",
    "train_set_Y = Y[:2000]\n",
    "test_set_X = X[2000:]\n",
    "test_set_Y = Y[2000:]"
   ]
  },
  {
   "cell_type": "markdown",
   "metadata": {
    "id": "AVjpynEEiJTp"
   },
   "source": [
    "### Experiment with first layer of Neural Network"
   ]
  },
  {
   "cell_type": "code",
   "execution_count": 265,
   "metadata": {
    "colab": {
     "base_uri": "https://localhost:8080/"
    },
    "id": "MWDKDjXuTTiW",
    "outputId": "b3c5d1c7-7f73-4325-c096-1dfc0252b457"
   },
   "outputs": [
    {
     "name": "stdout",
     "output_type": "stream",
     "text": [
      "[4, 8, 12, 16, 20, 24, 28, 32, 36, 40, 44, 48, 52, 56, 60, 64]\n",
      "Epoch 1/10\n",
      "63/63 [==============================] - 0s 986us/step - loss: 0.5294\n",
      "Epoch 2/10\n",
      "63/63 [==============================] - 0s 1ms/step - loss: 0.0685\n",
      "Epoch 3/10\n",
      "63/63 [==============================] - 0s 889us/step - loss: 0.0144\n",
      "Epoch 4/10\n",
      "63/63 [==============================] - 0s 931us/step - loss: 0.0103\n",
      "Epoch 5/10\n",
      "63/63 [==============================] - 0s 1ms/step - loss: 0.0082\n",
      "Epoch 6/10\n",
      "63/63 [==============================] - 0s 1ms/step - loss: 0.0070\n",
      "Epoch 7/10\n",
      "63/63 [==============================] - 0s 894us/step - loss: 0.0061\n",
      "Epoch 8/10\n",
      "63/63 [==============================] - 0s 957us/step - loss: 0.0054\n",
      "Epoch 9/10\n",
      "63/63 [==============================] - 0s 954us/step - loss: 0.0048\n",
      "Epoch 10/10\n",
      "63/63 [==============================] - 0s 951us/step - loss: 0.0043\n"
     ]
    }
   ],
   "source": [
    "def layer_one_regression(units):\n",
    "  model = Sequential()\n",
    "  model.add(Input(shape=(5,)))\n",
    "  # Layer 1\n",
    "  model.add(Dense(units, kernel_initializer='normal',activation='relu'))\n",
    "  model.add(Dense(1))\n",
    "  # Compile model\n",
    "  model.compile(loss='mean_squared_error', optimizer='adam')\n",
    "  return model\n",
    "\n",
    "estimator = KerasRegressor(build_fn=layer_one_regression, epochs=10)\n",
    "layer1_units = np.arange(4,68,4)\n",
    "layer1_units = layer1_units.tolist()\n",
    "print(layer1_units)\n",
    "param_grid = dict(units=layer1_units)\n",
    "grid = GridSearchCV(estimator=estimator, param_grid=param_grid, n_jobs=-1,scoring='neg_mean_squared_error')\n",
    "grid_result = grid.fit(train_set_X, train_set_Y)"
   ]
  },
  {
   "cell_type": "code",
   "execution_count": 266,
   "metadata": {
    "colab": {
     "base_uri": "https://localhost:8080/"
    },
    "id": "vuhPyTcnAY4j",
    "outputId": "0a97f123-0e11-45dc-c47f-777da9d3239e"
   },
   "outputs": [
    {
     "name": "stdout",
     "output_type": "stream",
     "text": [
      "Best: -0.005429 using {'units': 64}\n"
     ]
    }
   ],
   "source": [
    "print(\"Best: %f using %s\" % (grid_result.best_score_, grid_result.best_params_))\n"
   ]
  },
  {
   "cell_type": "code",
   "execution_count": 268,
   "metadata": {
    "colab": {
     "base_uri": "https://localhost:8080/",
     "height": 372
    },
    "id": "IbDO-5uIBjhj",
    "outputId": "c337d5a2-e660-4a34-e01e-222e5f261617"
   },
   "outputs": [
    {
     "name": "stdout",
     "output_type": "stream",
     "text": [
      "[-0.09070405 -0.02302395 -0.01328072 -0.01151546 -0.01062581 -0.00954826\n",
      " -0.00868282 -0.00754919 -0.00751221 -0.00711346 -0.00647577 -0.00600313\n",
      " -0.00596529 -0.00613495 -0.00569294 -0.00542907]\n",
      "[{'units': 4}, {'units': 8}, {'units': 12}, {'units': 16}, {'units': 20}, {'units': 24}, {'units': 28}, {'units': 32}, {'units': 36}, {'units': 40}, {'units': 44}, {'units': 48}, {'units': 52}, {'units': 56}, {'units': 60}, {'units': 64}]\n"
     ]
    },
    {
     "data": {
      "image/png": "[encoded data removed]",
      "text/plain": [
       "<Figure size 432x288 with 1 Axes>"
      ]
     },
     "metadata": {
      "needs_background": "light",
      "tags": []
     },
     "output_type": "display_data"
    }
   ],
   "source": [
    "import matplotlib.pyplot as plt\n",
    "\n",
    "print(grid_result.cv_results_['mean_test_score'])\n",
    "print(grid_result.cv_results_['params'])\n",
    "plt.xlabel(\"Layer1 neurons\")\n",
    "plt.ylabel(\"Mean squared error\")\n",
    "plt.plot(layer1_units,[-x for x in grid_result.cv_results_['mean_test_score']])\n",
    "plt.savefig(\"/content/drive/My Drive/Fall 20/IOT Analytics/Neural Nets project/layer1.png\")"
   ]
  },
  {
   "cell_type": "markdown",
   "metadata": {
    "id": "-gO-gH3WfcmJ"
   },
   "source": [
    "### We can clearly see as we increase the number of units, the loss decreases, we have tested the first layer for range(4,64,4). We choose 4."
   ]
  },
  {
   "cell_type": "code",
   "execution_count": 269,
   "metadata": {
    "colab": {
     "base_uri": "https://localhost:8080/"
    },
    "id": "1oVvv2lX6UuK",
    "outputId": "7fb901f5-6eb5-4b58-f6e5-fd1137b7a769"
   },
   "outputs": [
    {
     "name": "stdout",
     "output_type": "stream",
     "text": [
      "{'units': 64}\n"
     ]
    }
   ],
   "source": [
    "print(grid_result.best_params_)"
   ]
  },
  {
   "cell_type": "code",
   "execution_count": 270,
   "metadata": {
    "colab": {
     "base_uri": "https://localhost:8080/"
    },
    "id": "34wJRwIKib9E",
    "outputId": "8e2aa6d2-a60a-4ed1-87eb-d10dd7d0d2c6"
   },
   "outputs": [
    {
     "name": "stdout",
     "output_type": "stream",
     "text": [
      "[4, 8, 12, 16, 20, 24, 28, 32, 36, 40, 44, 48, 52, 56, 60, 64, 68, 72, 76, 80, 84, 88, 92, 96, 100, 104, 108, 112, 116, 120, 124, 128]\n",
      "Epoch 1/10\n",
      "63/63 [==============================] - 0s 1ms/step - loss: 0.4331\n",
      "Epoch 2/10\n",
      "63/63 [==============================] - 0s 1ms/step - loss: 0.0124\n",
      "Epoch 3/10\n",
      "63/63 [==============================] - 0s 1ms/step - loss: 0.0049\n",
      "Epoch 4/10\n",
      "63/63 [==============================] - 0s 1ms/step - loss: 0.0037\n",
      "Epoch 5/10\n",
      "63/63 [==============================] - 0s 1ms/step - loss: 0.0029\n",
      "Epoch 6/10\n",
      "63/63 [==============================] - 0s 1ms/step - loss: 0.0025\n",
      "Epoch 7/10\n",
      "63/63 [==============================] - 0s 1ms/step - loss: 0.0020\n",
      "Epoch 8/10\n",
      "63/63 [==============================] - 0s 1ms/step - loss: 0.0018\n",
      "Epoch 9/10\n",
      "63/63 [==============================] - 0s 1ms/step - loss: 0.0015\n",
      "Epoch 10/10\n",
      "63/63 [==============================] - 0s 1ms/step - loss: 0.0015\n"
     ]
    }
   ],
   "source": [
    "def two_layer_regression(units):\n",
    "  model = Sequential()\n",
    "  model.add(Input(shape=(5,)))\n",
    "  # Layer 1\n",
    "  model.add(Dense(64, kernel_initializer='normal', activation='relu'))\n",
    "  # Layer 2\n",
    "  model.add(Dense(units, kernel_initializer='normal', activation='relu'))\n",
    "  model.add(Dense(1))\n",
    "  # Compile model\n",
    "  model.compile(loss='mean_squared_error', optimizer='adam')\n",
    "  return model\n",
    "\n",
    "estimator = KerasRegressor(build_fn=two_layer_regression, epochs=10)\n",
    "layer2_units = np.arange(4,132,4)\n",
    "layer2_units = layer2_units.tolist()\n",
    "print(layer2_units)\n",
    "param_grid = dict(units=layer2_units)\n",
    "grid = GridSearchCV(estimator=estimator, param_grid=param_grid, n_jobs=-1,scoring='neg_mean_squared_error')\n",
    "grid_result = grid.fit(train_set_X, train_set_Y)"
   ]
  },
  {
   "cell_type": "code",
   "execution_count": 271,
   "metadata": {
    "colab": {
     "base_uri": "https://localhost:8080/",
     "height": 428
    },
    "id": "W81Z738Rib36",
    "outputId": "64636eb1-0c7d-4d1b-e2d6-0b9a56b5e5dd"
   },
   "outputs": [
    {
     "name": "stdout",
     "output_type": "stream",
     "text": [
      "[-0.08495861 -0.00280756 -0.00270418 -0.0023677  -0.00238177 -0.00229894\n",
      " -0.00210396 -0.00209908 -0.00211926 -0.00214316 -0.00170534 -0.00197703\n",
      " -0.00174741 -0.00170029 -0.00184406 -0.00177136 -0.00197734 -0.00173805\n",
      " -0.00164351 -0.00156157 -0.00150243 -0.00175087 -0.00165394 -0.00154356\n",
      " -0.0018506  -0.00169282 -0.00153601 -0.00156709 -0.00155183 -0.00162737\n",
      " -0.00165209 -0.00157977]\n",
      "[{'units': 4}, {'units': 8}, {'units': 12}, {'units': 16}, {'units': 20}, {'units': 24}, {'units': 28}, {'units': 32}, {'units': 36}, {'units': 40}, {'units': 44}, {'units': 48}, {'units': 52}, {'units': 56}, {'units': 60}, {'units': 64}, {'units': 68}, {'units': 72}, {'units': 76}, {'units': 80}, {'units': 84}, {'units': 88}, {'units': 92}, {'units': 96}, {'units': 100}, {'units': 104}, {'units': 108}, {'units': 112}, {'units': 116}, {'units': 120}, {'units': 124}, {'units': 128}]\n"
     ]
    },
    {
     "data": {
      "image/png": "[encoded data removed]",
      "text/plain": [
       "<Figure size 432x288 with 1 Axes>"
      ]
     },
     "metadata": {
      "needs_background": "light",
      "tags": []
     },
     "output_type": "display_data"
    }
   ],
   "source": [
    "print(grid_result.cv_results_['mean_test_score'])\n",
    "print(grid_result.cv_results_['params'])\n",
    "plt.xlabel(\"Layer2 neurons\")\n",
    "plt.ylabel(\"Mean squared error\")\n",
    "plt.plot(layer2_units,[-x for x in grid_result.cv_results_['mean_test_score']])\n",
    "plt.savefig(\"/content/drive/My Drive/Fall 20/IOT Analytics/Neural Nets project/layer2.png\")"
   ]
  },
  {
   "cell_type": "markdown",
   "metadata": {
    "id": "YyllC-_vgjXf"
   },
   "source": [
    "## Here we test layer 2 for range of (4,132,4) and we see that we get a elbow pretty quickly, so no need to have more neurons in the second layer as it doesnt result in peerformance enhancement.\n",
    "## So we select 16 units for layer 2, as we get a elbow there\n"
   ]
  },
  {
   "cell_type": "code",
   "execution_count": 272,
   "metadata": {
    "colab": {
     "base_uri": "https://localhost:8080/"
    },
    "id": "_XjGFYM6f-yD",
    "outputId": "82a458e7-7617-48e6-8729-48d4ceea7749"
   },
   "outputs": [
    {
     "name": "stdout",
     "output_type": "stream",
     "text": [
      "[4, 8, 12, 16, 20, 24, 28, 32, 36, 40, 44, 48, 52, 56, 60, 64, 68, 72, 76, 80, 84, 88, 92, 96, 100, 104, 108, 112, 116, 120, 124, 128]\n",
      "Epoch 1/10\n",
      "63/63 [==============================] - 0s 1ms/step - loss: 0.5749\n",
      "Epoch 2/10\n",
      "63/63 [==============================] - 0s 1ms/step - loss: 0.0168\n",
      "Epoch 3/10\n",
      "63/63 [==============================] - 0s 1ms/step - loss: 0.0047\n",
      "Epoch 4/10\n",
      "63/63 [==============================] - 0s 1ms/step - loss: 0.0033\n",
      "Epoch 5/10\n",
      "63/63 [==============================] - 0s 1ms/step - loss: 0.0023\n",
      "Epoch 6/10\n",
      "63/63 [==============================] - 0s 1ms/step - loss: 0.0016\n",
      "Epoch 7/10\n",
      "63/63 [==============================] - 0s 1ms/step - loss: 0.0013\n",
      "Epoch 8/10\n",
      "63/63 [==============================] - 0s 1ms/step - loss: 0.0012\n",
      "Epoch 9/10\n",
      "63/63 [==============================] - 0s 1ms/step - loss: 8.4339e-04\n",
      "Epoch 10/10\n",
      "63/63 [==============================] - 0s 1ms/step - loss: 6.5282e-04\n"
     ]
    }
   ],
   "source": [
    "def three_layer_regression(units):\n",
    "  model = Sequential()\n",
    "  model.add(Input(shape=(5,)))\n",
    "  # Layer 1\n",
    "  model.add(Dense(64, kernel_initializer='normal', activation='relu'))\n",
    "  # Layer 2\n",
    "  model.add(Dense(16, kernel_initializer='normal', activation='relu'))\n",
    "  # Layer4\n",
    "  model.add(Dense(units, kernel_initializer='normal', activation='relu'))\n",
    "  model.add(Dense(1))\n",
    "  # Compile model\n",
    "  model.compile(loss='mean_squared_error', optimizer='adam')\n",
    "  return model\n",
    "\n",
    "estimator = KerasRegressor(build_fn=three_layer_regression, epochs=10)\n",
    "layer3_units = np.arange(4,132,4)\n",
    "layer3_units = layer3_units.tolist()\n",
    "print(layer3_units)\n",
    "param_grid = dict(units=layer3_units)\n",
    "grid = GridSearchCV(estimator=estimator, param_grid=param_grid, n_jobs=-1,scoring='neg_mean_squared_error')\n",
    "grid_result = grid.fit(train_set_X, train_set_Y)"
   ]
  },
  {
   "cell_type": "code",
   "execution_count": 273,
   "metadata": {
    "colab": {
     "base_uri": "https://localhost:8080/",
     "height": 428
    },
    "id": "snFC99WRiYtp",
    "outputId": "15b86a91-62c0-4e03-ae66-a6d72de2a95e"
   },
   "outputs": [
    {
     "name": "stdout",
     "output_type": "stream",
     "text": [
      "[-0.09015788 -0.00287665 -0.00232964 -0.00195602 -0.00213016 -0.00217848\n",
      " -0.00195908 -0.00174071 -0.00189657 -0.00186487 -0.00160803 -0.00166426\n",
      " -0.00165016 -0.00173239 -0.00135665 -0.00156489 -0.00130624 -0.00140504\n",
      " -0.00150458 -0.00155585 -0.00120141 -0.00137291 -0.00129475 -0.00137913\n",
      " -0.00128637 -0.00138529 -0.00133098 -0.00135598 -0.00140104 -0.00122418\n",
      " -0.00119005 -0.00133088]\n",
      "[{'units': 4}, {'units': 8}, {'units': 12}, {'units': 16}, {'units': 20}, {'units': 24}, {'units': 28}, {'units': 32}, {'units': 36}, {'units': 40}, {'units': 44}, {'units': 48}, {'units': 52}, {'units': 56}, {'units': 60}, {'units': 64}, {'units': 68}, {'units': 72}, {'units': 76}, {'units': 80}, {'units': 84}, {'units': 88}, {'units': 92}, {'units': 96}, {'units': 100}, {'units': 104}, {'units': 108}, {'units': 112}, {'units': 116}, {'units': 120}, {'units': 124}, {'units': 128}]\n"
     ]
    },
    {
     "data": {
      "image/png": "[encoded data removed]",
      "text/plain": [
       "<Figure size 432x288 with 1 Axes>"
      ]
     },
     "metadata": {
      "needs_background": "light",
      "tags": []
     },
     "output_type": "display_data"
    }
   ],
   "source": [
    "print(grid_result.cv_results_['mean_test_score'])\n",
    "print(grid_result.cv_results_['params'])\n",
    "plt.xlabel(\"Layer3 neurons\")\n",
    "plt.ylabel(\"Mean squared error\")\n",
    "plt.plot(layer3_units,[-x for x in grid_result.cv_results_['mean_test_score']])\n",
    "plt.savefig(\"/content/drive/My Drive/Fall 20/IOT Analytics/Neural Nets project/layer3.png\")"
   ]
  },
  {
   "cell_type": "markdown",
   "metadata": {
    "id": "RXcPMwaNi0Dd"
   },
   "source": [
    "## Here we test layer 3 for range of (4,132,4) and we see that we get a elbow pretty quickly, so no need to have more neurons in the second layer as it doesnt result in peerformance enhancement.\n",
    "## So we select 12 units for layer 3, as we get a elbow there\n"
   ]
  },
  {
   "cell_type": "code",
   "execution_count": 274,
   "metadata": {
    "colab": {
     "base_uri": "https://localhost:8080/"
    },
    "id": "M9tmHPaAgBkh",
    "outputId": "c86d26fe-ccce-47ce-e853-b97649eca0a0"
   },
   "outputs": [
    {
     "name": "stdout",
     "output_type": "stream",
     "text": [
      "[4, 8, 12, 16, 20, 24, 28, 32, 36, 40, 44, 48, 52, 56, 60, 64]\n",
      "Epoch 1/10\n",
      "63/63 [==============================] - 0s 1ms/step - loss: 0.9243\n",
      "Epoch 2/10\n",
      "63/63 [==============================] - 0s 1ms/step - loss: 0.1095\n",
      "Epoch 3/10\n",
      "63/63 [==============================] - 0s 1ms/step - loss: 0.0153\n",
      "Epoch 4/10\n",
      "63/63 [==============================] - 0s 1ms/step - loss: 0.0058\n",
      "Epoch 5/10\n",
      "63/63 [==============================] - 0s 1ms/step - loss: 0.0046\n",
      "Epoch 6/10\n",
      "63/63 [==============================] - 0s 1ms/step - loss: 0.0034\n",
      "Epoch 7/10\n",
      "63/63 [==============================] - 0s 1ms/step - loss: 0.0027\n",
      "Epoch 8/10\n",
      "63/63 [==============================] - 0s 1ms/step - loss: 0.0024\n",
      "Epoch 9/10\n",
      "63/63 [==============================] - 0s 1ms/step - loss: 0.0020\n",
      "Epoch 10/10\n",
      "63/63 [==============================] - 0s 1ms/step - loss: 0.0017\n"
     ]
    }
   ],
   "source": [
    "def four_layer_regression(units):\n",
    "  model = Sequential()\n",
    "  model.add(Input(shape=(5,)))\n",
    "  # Layer 1\n",
    "  model.add(Dense(64, kernel_initializer='normal', activation='relu'))\n",
    "  # Layer 2\n",
    "  model.add(Dense(16, kernel_initializer='normal', activation='relu'))\n",
    "  # Layer 3\n",
    "  model.add(Dense(12, kernel_initializer='normal', activation='relu'))\n",
    "  # Layer 4\n",
    "  model.add(Dense(units, kernel_initializer='normal', activation='relu'))\n",
    "  model.add(Dense(1))\n",
    "  # Compile model\n",
    "  model.compile(loss='mean_squared_error', optimizer='adam')\n",
    "  return model\n",
    "\n",
    "estimator = KerasRegressor(build_fn=four_layer_regression, epochs=10)\n",
    "layer4_units = np.arange(4,68,4)\n",
    "layer4_units = layer4_units.tolist()\n",
    "print(layer4_units)\n",
    "param_grid = dict(units=layer4_units)\n",
    "grid = GridSearchCV(estimator=estimator, param_grid=param_grid, n_jobs=-1,scoring='neg_mean_squared_error')\n",
    "grid_result = grid.fit(train_set_X, train_set_Y)"
   ]
  },
  {
   "cell_type": "code",
   "execution_count": 275,
   "metadata": {
    "colab": {
     "base_uri": "https://localhost:8080/",
     "height": 372
    },
    "id": "hgDx5YgXh1lz",
    "outputId": "7278b941-f5ce-401e-a973-474a49196483"
   },
   "outputs": [
    {
     "name": "stdout",
     "output_type": "stream",
     "text": [
      "[-0.3103902  -0.00325789 -0.00297024 -0.00203358 -0.00229627 -0.00281722\n",
      " -0.00227424 -0.00172721 -0.0020989  -0.00221252 -0.00202301 -0.00169402\n",
      " -0.00176899 -0.00192582 -0.00213216 -0.00158299]\n",
      "[{'units': 4}, {'units': 8}, {'units': 12}, {'units': 16}, {'units': 20}, {'units': 24}, {'units': 28}, {'units': 32}, {'units': 36}, {'units': 40}, {'units': 44}, {'units': 48}, {'units': 52}, {'units': 56}, {'units': 60}, {'units': 64}]\n"
     ]
    },
    {
     "data": {
      "image/png": "[encoded data removed]",
      "text/plain": [
       "<Figure size 432x288 with 1 Axes>"
      ]
     },
     "metadata": {
      "needs_background": "light",
      "tags": []
     },
     "output_type": "display_data"
    }
   ],
   "source": [
    "print(grid_result.cv_results_['mean_test_score'])\n",
    "print(grid_result.cv_results_['params'])\n",
    "plt.xlabel(\"Layer4 neurons\")\n",
    "plt.ylabel(\"Mean squared error\")\n",
    "plt.plot(layer4_units,[-x for x in grid_result.cv_results_['mean_test_score']])\n",
    "plt.savefig(\"/content/drive/My Drive/Fall 20/IOT Analytics/Neural Nets project/layer4.png\")"
   ]
  },
  {
   "cell_type": "markdown",
   "metadata": {
    "id": "YvUrd1atjMgD"
   },
   "source": [
    "## As we can see, number of neurons converges at 8 for layer 4. This is indication we probably wont need more layers as the model is complex enough to capture the variance and pattern in the data"
   ]
  },
  {
   "cell_type": "code",
   "execution_count": 276,
   "metadata": {
    "id": "0DZoxgZijsN2"
   },
   "outputs": [],
   "source": [
    "def four_layer_regression(units):\n",
    "  model = Sequential()\n",
    "  model.add(Input(shape=(5,)))\n",
    "  # Layer 1\n",
    "  model.add(Dense(64, kernel_initializer='normal', activation='relu'))\n",
    "  # Layer 2\n",
    "  model.add(Dense(16, kernel_initializer='normal', activation='relu'))\n",
    "  # Layer 3\n",
    "  model.add(Dense(12, kernel_initializer='normal', activation='relu'))\n",
    "  # Layer 4\n",
    "  model.add(Dense(8, kernel_initializer='normal', activation='relu'))\n",
    "  model.add(Dense(1))\n",
    "  # Compile model\n",
    "  model.compile(loss='mean_squared_error', optimizer='adam')\n",
    "  return model\n"
   ]
  },
  {
   "cell_type": "code",
   "execution_count": 279,
   "metadata": {
    "colab": {
     "base_uri": "https://localhost:8080/"
    },
    "id": "ICBAwgd1jK0W",
    "outputId": "2fc98574-fd33-4749-feff-62df04aca635"
   },
   "outputs": [
    {
     "name": "stdout",
     "output_type": "stream",
     "text": [
      "Train Loss:  [1.024748800136795, 1.016226168924038, 1.0299667550014884, 1.0296459285463853]\n",
      "test Loss:  [0.8594815629743624, 0.7904888303509018, 0.8059437297629141, 0.8043283926510927]\n"
     ]
    }
   ],
   "source": [
    "from sklearn.metrics import mean_squared_error\n",
    "test_loss = []\n",
    "train_loss = []\n",
    "#only layer 1 Model\n",
    "y_predict =  layer_one_regression(64).predict(test_set_X)\n",
    "test_loss.append(mean_squared_error(test_set_Y, y_predict))\n",
    "\n",
    "y_predict =  layer_one_regression(64).predict(train_set_X)\n",
    "train_loss.append(mean_squared_error(train_set_Y, y_predict))\n",
    "\n",
    "# Model with 2 layers\n",
    "y_predict =  two_layer_regression(16).predict(test_set_X)\n",
    "test_loss.append(mean_squared_error(test_set_Y, y_predict))\n",
    "\n",
    "y_predict =  two_layer_regression(16).predict(train_set_X)\n",
    "train_loss.append(mean_squared_error(train_set_Y, y_predict))\n",
    "\n",
    "# Model with 3 layers\n",
    "y_predict =  three_layer_regression(12).predict(test_set_X)\n",
    "test_loss.append(mean_squared_error(test_set_Y, y_predict))\n",
    "\n",
    "y_predict =  three_layer_regression(12).predict(train_set_X)\n",
    "train_loss.append(mean_squared_error(train_set_Y, y_predict))\n",
    "\n",
    "#Model with 4 layers\n",
    "y_predict =  four_layer_regression(8).predict(test_set_X)\n",
    "test_loss.append(mean_squared_error(test_set_Y, y_predict))\n",
    "\n",
    "y_predict =  four_layer_regression(8).predict(train_set_X)\n",
    "train_loss.append(mean_squared_error(train_set_Y, y_predict))\n",
    "\n",
    "print(\"Train Loss: \" , train_loss)\n",
    "print(\"test Loss: \", test_loss)"
   ]
  },
  {
   "cell_type": "markdown",
   "metadata": {},
   "source": [
    "## Compare above Neural networks, to decide which model is the best"
   ]
  },
  {
   "cell_type": "code",
   "execution_count": 280,
   "metadata": {
    "colab": {
     "base_uri": "https://localhost:8080/",
     "height": 265
    },
    "id": "bkHCNbLvkA6Y",
    "outputId": "18790ad6-1092-4492-8cf3-365a40ebf4aa"
   },
   "outputs": [
    {
     "data": {
      "image/png": "[encoded data removed]",
      "text/plain": [
       "<Figure size 432x288 with 1 Axes>"
      ]
     },
     "metadata": {
      "needs_background": "light",
      "tags": []
     },
     "output_type": "display_data"
    }
   ],
   "source": [
    "layers = [1,2,3,4]\n",
    "plt.plot(layers, train_loss, label=\"train_loss\", color=\"orange\")\n",
    "plt.plot(layers, test_loss, label=\"test_loss\", color=\"blue\")\n",
    "plt.legend()\n",
    "plt.savefig(\"/content/drive/My Drive/Fall 20/IOT Analytics/Neural Nets project/network_comparison.png\")"
   ]
  },
  {
   "cell_type": "markdown",
   "metadata": {
    "id": "GgYcNCrbm7um"
   },
   "source": [
    "We can from the above graph that the test loss does decrease with 2 layers, but the imporovement is very less as we increase the layers, thus we decide to have our final model with 2 layers"
   ]
  },
  {
   "cell_type": "code",
   "execution_count": 281,
   "metadata": {
    "colab": {
     "base_uri": "https://localhost:8080/"
    },
    "id": "-olWbPiNUB5h",
    "outputId": "db00f3ec-b1d0-4352-ed3c-6be107a0b590"
   },
   "outputs": [
    {
     "name": "stdout",
     "output_type": "stream",
     "text": [
      "Model: \"sequential_229\"\n",
      "_________________________________________________________________\n",
      "Layer (type)                 Output Shape              Param #   \n",
      "=================================================================\n",
      "dense_613 (Dense)            (None, 64)                384       \n",
      "_________________________________________________________________\n",
      "dense_614 (Dense)            (None, 16)                1040      \n",
      "_________________________________________________________________\n",
      "dense_615 (Dense)            (None, 1)                 17        \n",
      "=================================================================\n",
      "Total params: 1,441\n",
      "Trainable params: 1,441\n",
      "Non-trainable params: 0\n",
      "_________________________________________________________________\n"
     ]
    }
   ],
   "source": [
    "# Model Summary\n",
    "ann_regressor().summary()"
   ]
  },
  {
   "cell_type": "markdown",
   "metadata": {
    "id": "ZNjZ2qHvoai3"
   },
   "source": [
    "## Testing with optimizers, Learning rate and Layer Regularization "
   ]
  },
  {
   "cell_type": "code",
   "execution_count": 290,
   "metadata": {
    "colab": {
     "base_uri": "https://localhost:8080/"
    },
    "id": "3mNLsii_mOxX",
    "outputId": "1360783b-9cce-4083-fdc2-6890cca1afec"
   },
   "outputs": [
    {
     "name": "stdout",
     "output_type": "stream",
     "text": [
      "Learning rate List:  [0.001, 0.011, 0.020999999999999998, 0.030999999999999996, 0.040999999999999995, 0.05099999999999999, 0.06099999999999999, 0.071, 0.08099999999999999, 0.09099999999999998]\n",
      "Optimizers:  [<class 'tensorflow.python.keras.optimizer_v2.adam.Adam'>, <class 'tensorflow.python.keras.optimizer_v2.gradient_descent.SGD'>, <class 'tensorflow.python.keras.optimizer_v2.rmsprop.RMSprop'>]\n",
      "regularizer List:  [0.1, 0.01, 0.001, 0.001, 0.0001]\n",
      "[0.001, 0.011, 0.020999999999999998, 0.030999999999999996, 0.040999999999999995, 0.05099999999999999, 0.06099999999999999, 0.071, 0.08099999999999999, 0.09099999999999998]\n",
      "Epoch 1/10\n",
      "63/63 [==============================] - 0s 1ms/step - loss: 0.1683\n",
      "Epoch 2/10\n",
      "63/63 [==============================] - 0s 1ms/step - loss: 0.0346\n",
      "Epoch 3/10\n",
      "63/63 [==============================] - 0s 1ms/step - loss: 0.0272\n",
      "Epoch 4/10\n",
      "63/63 [==============================] - 0s 1ms/step - loss: 0.0241\n",
      "Epoch 5/10\n",
      "63/63 [==============================] - 0s 1ms/step - loss: 0.0205\n",
      "Epoch 6/10\n",
      "63/63 [==============================] - 0s 1ms/step - loss: 0.0175\n",
      "Epoch 7/10\n",
      "63/63 [==============================] - 0s 1ms/step - loss: 0.0160\n",
      "Epoch 8/10\n",
      "63/63 [==============================] - 0s 1ms/step - loss: 0.0155\n",
      "Epoch 9/10\n",
      "63/63 [==============================] - 0s 1ms/step - loss: 0.0156\n",
      "Epoch 10/10\n",
      "63/63 [==============================] - 0s 1ms/step - loss: 0.0177\n"
     ]
    }
   ],
   "source": [
    "from tensorflow.keras import regularizers\n",
    "\n",
    "def ann_regressor(lr,rg, opt):\n",
    "  model = Sequential()\n",
    "  model.add(Input(shape=(5,)))\n",
    "  # Layer 1\n",
    "  model.add(Dense(64, kernel_initializer='normal', activation='relu', kernel_regularizer=regularizers.l1(rg)))\n",
    "  # Layer 2\n",
    "  model.add(Dense(16, kernel_initializer='normal', activation='relu', kernel_regularizer=regularizers.l1(rg)))\n",
    "  model.add(Dense(1))\n",
    "  # Compile model\n",
    "  model.compile(loss='mean_squared_error', optimizer=opt(learning_rate=lr))\n",
    "  return model\n",
    "\n",
    "estimator = KerasRegressor(build_fn=ann_regressor, epochs=10)\n",
    "learning_rate = np.arange(0.001, 0.1, 0.01)\n",
    "learning_rate = learning_rate.tolist()\n",
    "print(\"Learning rate List: \" , learning_rate)\n",
    "regularizer = [0.1,0.01, 0.001, 0.001, 0.0001]\n",
    "optmizers= [keras.optimizers.Adam, keras.optimizers.SGD, keras.optimizers.RMSprop]\n",
    "print(\"Optimizers: \", optmizers)\n",
    "print(\"regularizer List: \", regularizer)\n",
    "print(learning_rate)\n",
    "param_grid = dict(lr=learning_rate, rg = regularizer, opt=optmizers)\n",
    "grid = GridSearchCV(estimator=estimator, param_grid=param_grid, n_jobs=-1,scoring='neg_mean_squared_error')\n",
    "grid_result = grid.fit(train_set_X, train_set_Y)"
   ]
  },
  {
   "cell_type": "code",
   "execution_count": 291,
   "metadata": {
    "colab": {
     "base_uri": "https://localhost:8080/",
     "height": 681
    },
    "id": "07u9iSB3wuH6",
    "outputId": "411a1fcd-acb4-4b7e-bdbd-d91a599af163"
   },
   "outputs": [
    {
     "data": {
      "text/html": [
       "<div>\n",
       "<style scoped>\n",
       "    .dataframe tbody tr th:only-of-type {\n",
       "        vertical-align: middle;\n",
       "    }\n",
       "\n",
       "    .dataframe tbody tr th {\n",
       "        vertical-align: top;\n",
       "    }\n",
       "\n",
       "    .dataframe thead th {\n",
       "        text-align: right;\n",
       "    }\n",
       "</style>\n",
       "<table border=\"1\" class=\"dataframe\">\n",
       "  <thead>\n",
       "    <tr style=\"text-align: right;\">\n",
       "      <th></th>\n",
       "      <th>0</th>\n",
       "    </tr>\n",
       "  </thead>\n",
       "  <tbody>\n",
       "    <tr>\n",
       "      <th>{'lr': 0.001, 'opt': &lt;class 'tensorflow.python.keras.optimizer_v2.adam.Adam'&gt;, 'rg': 0.1}</th>\n",
       "      <td>-1.029866</td>\n",
       "    </tr>\n",
       "    <tr>\n",
       "      <th>{'lr': 0.001, 'opt': &lt;class 'tensorflow.python.keras.optimizer_v2.adam.Adam'&gt;, 'rg': 0.01}</th>\n",
       "      <td>-0.014571</td>\n",
       "    </tr>\n",
       "    <tr>\n",
       "      <th>{'lr': 0.001, 'opt': &lt;class 'tensorflow.python.keras.optimizer_v2.adam.Adam'&gt;, 'rg': 0.001}</th>\n",
       "      <td>-0.005600</td>\n",
       "    </tr>\n",
       "    <tr>\n",
       "      <th>{'lr': 0.001, 'opt': &lt;class 'tensorflow.python.keras.optimizer_v2.adam.Adam'&gt;, 'rg': 0.001}</th>\n",
       "      <td>-0.005308</td>\n",
       "    </tr>\n",
       "    <tr>\n",
       "      <th>{'lr': 0.001, 'opt': &lt;class 'tensorflow.python.keras.optimizer_v2.adam.Adam'&gt;, 'rg': 0.0001}</th>\n",
       "      <td>-0.002682</td>\n",
       "    </tr>\n",
       "    <tr>\n",
       "      <th>...</th>\n",
       "      <td>...</td>\n",
       "    </tr>\n",
       "    <tr>\n",
       "      <th>{'lr': 0.09099999999999998, 'opt': &lt;class 'tensorflow.python.keras.optimizer_v2.rmsprop.RMSprop'&gt;, 'rg': 0.1}</th>\n",
       "      <td>-0.181964</td>\n",
       "    </tr>\n",
       "    <tr>\n",
       "      <th>{'lr': 0.09099999999999998, 'opt': &lt;class 'tensorflow.python.keras.optimizer_v2.rmsprop.RMSprop'&gt;, 'rg': 0.01}</th>\n",
       "      <td>-0.038729</td>\n",
       "    </tr>\n",
       "    <tr>\n",
       "      <th>{'lr': 0.09099999999999998, 'opt': &lt;class 'tensorflow.python.keras.optimizer_v2.rmsprop.RMSprop'&gt;, 'rg': 0.001}</th>\n",
       "      <td>-0.035237</td>\n",
       "    </tr>\n",
       "    <tr>\n",
       "      <th>{'lr': 0.09099999999999998, 'opt': &lt;class 'tensorflow.python.keras.optimizer_v2.rmsprop.RMSprop'&gt;, 'rg': 0.001}</th>\n",
       "      <td>-0.046412</td>\n",
       "    </tr>\n",
       "    <tr>\n",
       "      <th>{'lr': 0.09099999999999998, 'opt': &lt;class 'tensorflow.python.keras.optimizer_v2.rmsprop.RMSprop'&gt;, 'rg': 0.0001}</th>\n",
       "      <td>-0.058536</td>\n",
       "    </tr>\n",
       "  </tbody>\n",
       "</table>\n",
       "<p>150 rows × 1 columns</p>\n",
       "</div>"
      ],
      "text/plain": [
       "                                                           0\n",
       "{'lr': 0.001, 'opt': <class 'tensorflow.python.... -1.029866\n",
       "{'lr': 0.001, 'opt': <class 'tensorflow.python.... -0.014571\n",
       "{'lr': 0.001, 'opt': <class 'tensorflow.python.... -0.005600\n",
       "{'lr': 0.001, 'opt': <class 'tensorflow.python.... -0.005308\n",
       "{'lr': 0.001, 'opt': <class 'tensorflow.python.... -0.002682\n",
       "...                                                      ...\n",
       "{'lr': 0.09099999999999998, 'opt': <class 'tens... -0.181964\n",
       "{'lr': 0.09099999999999998, 'opt': <class 'tens... -0.038729\n",
       "{'lr': 0.09099999999999998, 'opt': <class 'tens... -0.035237\n",
       "{'lr': 0.09099999999999998, 'opt': <class 'tens... -0.046412\n",
       "{'lr': 0.09099999999999998, 'opt': <class 'tens... -0.058536\n",
       "\n",
       "[150 rows x 1 columns]"
      ]
     },
     "metadata": {
      "tags": []
     },
     "output_type": "display_data"
    },
    {
     "name": "stdout",
     "output_type": "stream",
     "text": [
      "                                                           0\n",
      "{'lr': 0.001, 'opt': <class 'tensorflow.python.... -1.029866\n",
      "{'lr': 0.001, 'opt': <class 'tensorflow.python.... -0.014571\n",
      "{'lr': 0.001, 'opt': <class 'tensorflow.python.... -0.005600\n",
      "{'lr': 0.001, 'opt': <class 'tensorflow.python.... -0.005308\n",
      "{'lr': 0.001, 'opt': <class 'tensorflow.python.... -0.002682\n",
      "...                                                      ...\n",
      "{'lr': 0.09099999999999998, 'opt': <class 'tens... -0.181964\n",
      "{'lr': 0.09099999999999998, 'opt': <class 'tens... -0.038729\n",
      "{'lr': 0.09099999999999998, 'opt': <class 'tens... -0.035237\n",
      "{'lr': 0.09099999999999998, 'opt': <class 'tens... -0.046412\n",
      "{'lr': 0.09099999999999998, 'opt': <class 'tens... -0.058536\n",
      "\n",
      "[150 rows x 1 columns]\n"
     ]
    }
   ],
   "source": [
    "display(pd.DataFrame(grid_result.cv_results_['mean_test_score'],grid_result.cv_results_['params']))\n",
    "print(pd.DataFrame(grid_result.cv_results_['mean_test_score'],grid_result.cv_results_['params']))"
   ]
  },
  {
   "cell_type": "code",
   "execution_count": 292,
   "metadata": {
    "colab": {
     "base_uri": "https://localhost:8080/"
    },
    "id": "7X1MlfWnwgbd",
    "outputId": "b40ef0e5-9213-4c24-ee91-f7ae52155f8a"
   },
   "outputs": [
    {
     "name": "stdout",
     "output_type": "stream",
     "text": [
      "{'lr': 0.020999999999999998, 'opt': <class 'tensorflow.python.keras.optimizer_v2.adam.Adam'>, 'rg': 0.001}\n"
     ]
    }
   ],
   "source": [
    "print(grid_result.best_params_)"
   ]
  },
  {
   "cell_type": "markdown",
   "metadata": {
    "id": "8E3EXFZwvQaE"
   },
   "source": [
    "# Lets experiment with number of epochs"
   ]
  },
  {
   "cell_type": "code",
   "execution_count": 293,
   "metadata": {
    "colab": {
     "base_uri": "https://localhost:8080/"
    },
    "id": "-M0K_sdSp0O4",
    "outputId": "ae4a9fba-d5c9-4efd-d3d7-8b96685d1258"
   },
   "outputs": [
    {
     "name": "stdout",
     "output_type": "stream",
     "text": [
      "63/63 [==============================] - 0s 1ms/step - loss: 0.1920\n"
     ]
    }
   ],
   "source": [
    "def ann_regressor():\n",
    "  model = Sequential()\n",
    "  model.add(Input(shape=(5,)))\n",
    "  # Layer 1\n",
    "  model.add(Dense(64, kernel_initializer='normal', activation='relu', kernel_regularizer=regularizers.l1(0.001)))\n",
    "  # Layer 2\n",
    "  model.add(Dense(16, kernel_initializer='normal', activation='relu', kernel_regularizer=regularizers.l1(0.001)))\n",
    "  model.add(Dense(1))\n",
    "  # Compile model\n",
    "  model.compile(loss='mean_squared_error', optimizer=keras.optimizers.Adam(learning_rate=0.02))\n",
    "  return model\n",
    "\n",
    "estimator = KerasRegressor(build_fn=ann_regressor)\n",
    "epochs = np.arange(10,100,10).tolist()\n",
    "param_grid = dict(nb_epoch=epochs)\n",
    "grid = GridSearchCV(estimator=estimator, param_grid=param_grid, n_jobs=-1,scoring='neg_mean_squared_error')\n",
    "grid_result = grid.fit(train_set_X, train_set_Y)\n"
   ]
  },
  {
   "cell_type": "code",
   "execution_count": 294,
   "metadata": {
    "colab": {
     "base_uri": "https://localhost:8080/",
     "height": 332
    },
    "id": "HVpnHDE0qDqu",
    "outputId": "67cc213c-5231-437d-b10b-a03888fbd097"
   },
   "outputs": [
    {
     "data": {
      "text/html": [
       "<div>\n",
       "<style scoped>\n",
       "    .dataframe tbody tr th:only-of-type {\n",
       "        vertical-align: middle;\n",
       "    }\n",
       "\n",
       "    .dataframe tbody tr th {\n",
       "        vertical-align: top;\n",
       "    }\n",
       "\n",
       "    .dataframe thead th {\n",
       "        text-align: right;\n",
       "    }\n",
       "</style>\n",
       "<table border=\"1\" class=\"dataframe\">\n",
       "  <thead>\n",
       "    <tr style=\"text-align: right;\">\n",
       "      <th></th>\n",
       "      <th>0</th>\n",
       "    </tr>\n",
       "  </thead>\n",
       "  <tbody>\n",
       "    <tr>\n",
       "      <th>{'nb_epoch': 10}</th>\n",
       "      <td>0.008706</td>\n",
       "    </tr>\n",
       "    <tr>\n",
       "      <th>{'nb_epoch': 20}</th>\n",
       "      <td>0.010005</td>\n",
       "    </tr>\n",
       "    <tr>\n",
       "      <th>{'nb_epoch': 30}</th>\n",
       "      <td>0.008081</td>\n",
       "    </tr>\n",
       "    <tr>\n",
       "      <th>{'nb_epoch': 40}</th>\n",
       "      <td>0.009148</td>\n",
       "    </tr>\n",
       "    <tr>\n",
       "      <th>{'nb_epoch': 50}</th>\n",
       "      <td>0.005879</td>\n",
       "    </tr>\n",
       "    <tr>\n",
       "      <th>{'nb_epoch': 60}</th>\n",
       "      <td>0.006845</td>\n",
       "    </tr>\n",
       "    <tr>\n",
       "      <th>{'nb_epoch': 70}</th>\n",
       "      <td>0.007324</td>\n",
       "    </tr>\n",
       "    <tr>\n",
       "      <th>{'nb_epoch': 80}</th>\n",
       "      <td>0.006449</td>\n",
       "    </tr>\n",
       "    <tr>\n",
       "      <th>{'nb_epoch': 90}</th>\n",
       "      <td>0.007685</td>\n",
       "    </tr>\n",
       "  </tbody>\n",
       "</table>\n",
       "</div>"
      ],
      "text/plain": [
       "                         0\n",
       "{'nb_epoch': 10}  0.008706\n",
       "{'nb_epoch': 20}  0.010005\n",
       "{'nb_epoch': 30}  0.008081\n",
       "{'nb_epoch': 40}  0.009148\n",
       "{'nb_epoch': 50}  0.005879\n",
       "{'nb_epoch': 60}  0.006845\n",
       "{'nb_epoch': 70}  0.007324\n",
       "{'nb_epoch': 80}  0.006449\n",
       "{'nb_epoch': 90}  0.007685"
      ]
     },
     "metadata": {
      "tags": []
     },
     "output_type": "display_data"
    }
   ],
   "source": [
    "display(pd.DataFrame([-x for x in grid_result.cv_results_['mean_test_score']],grid_result.cv_results_['params']))"
   ]
  },
  {
   "cell_type": "code",
   "execution_count": 295,
   "metadata": {
    "colab": {
     "base_uri": "https://localhost:8080/"
    },
    "id": "jfHYkkaErhi8",
    "outputId": "c864342c-6c16-4f72-f4c2-97b588533c0b"
   },
   "outputs": [
    {
     "name": "stdout",
     "output_type": "stream",
     "text": [
      "{'nb_epoch': 50}\n"
     ]
    }
   ],
   "source": [
    "print(grid_result.best_params_)\n"
   ]
  },
  {
   "cell_type": "code",
   "execution_count": 254,
   "metadata": {
    "id": "G6g4-aFfsrRc"
   },
   "outputs": [],
   "source": [
    "def ann_regressor():\n",
    "  model = Sequential()\n",
    "  model.add(Input(shape=(5,)))\n",
    "  # Layer 1\n",
    "  model.add(Dense(64, kernel_initializer='normal', activation='relu', kernel_regularizer=regularizers.l1(0.0001)))\n",
    "  # Layer 2\n",
    "  model.add(Dense(16, kernel_initializer='normal', activation='relu', kernel_regularizer=regularizers.l1(0.0001)))\n",
    "  model.add(Dense(1))\n",
    "  # Compile model\n",
    "  model.compile(loss='mean_squared_error', optimizer=keras.optimizers.Adam(learning_rate=0.03))\n",
    "  return model\n",
    "\n",
    "  \n",
    "\n"
   ]
  },
  {
   "cell_type": "code",
   "execution_count": 296,
   "metadata": {
    "colab": {
     "base_uri": "https://localhost:8080/"
    },
    "id": "NljW_PD1x41b",
    "outputId": "5ed50b1f-49b8-47cf-f4fa-a4b6bcad2a1e"
   },
   "outputs": [
    {
     "name": "stdout",
     "output_type": "stream",
     "text": [
      "Epoch 1/50\n",
      "63/63 [==============================] - 0s 1ms/step - loss: 0.1274\n",
      "Epoch 2/50\n",
      "63/63 [==============================] - 0s 1ms/step - loss: 0.0344\n",
      "Epoch 3/50\n",
      "63/63 [==============================] - 0s 1ms/step - loss: 0.0287\n",
      "Epoch 4/50\n",
      "63/63 [==============================] - 0s 1ms/step - loss: 0.0232\n",
      "Epoch 5/50\n",
      "63/63 [==============================] - 0s 1ms/step - loss: 0.0257\n",
      "Epoch 6/50\n",
      "63/63 [==============================] - 0s 1ms/step - loss: 0.0218\n",
      "Epoch 7/50\n",
      "63/63 [==============================] - 0s 1ms/step - loss: 0.0176\n",
      "Epoch 8/50\n",
      "63/63 [==============================] - 0s 1ms/step - loss: 0.0146\n",
      "Epoch 9/50\n",
      "63/63 [==============================] - 0s 998us/step - loss: 0.0154\n",
      "Epoch 10/50\n",
      "63/63 [==============================] - 0s 1ms/step - loss: 0.0130\n",
      "Epoch 11/50\n",
      "63/63 [==============================] - 0s 996us/step - loss: 0.0130\n",
      "Epoch 12/50\n",
      "63/63 [==============================] - 0s 1ms/step - loss: 0.0123\n",
      "Epoch 13/50\n",
      "63/63 [==============================] - 0s 1ms/step - loss: 0.0115\n",
      "Epoch 14/50\n",
      "63/63 [==============================] - 0s 987us/step - loss: 0.0136\n",
      "Epoch 15/50\n",
      "63/63 [==============================] - 0s 1ms/step - loss: 0.0138\n",
      "Epoch 16/50\n",
      "63/63 [==============================] - 0s 1ms/step - loss: 0.0118\n",
      "Epoch 17/50\n",
      "63/63 [==============================] - 0s 1ms/step - loss: 0.0108\n",
      "Epoch 18/50\n",
      "63/63 [==============================] - 0s 991us/step - loss: 0.0118\n",
      "Epoch 19/50\n",
      "63/63 [==============================] - 0s 1ms/step - loss: 0.0114\n",
      "Epoch 20/50\n",
      "63/63 [==============================] - 0s 1ms/step - loss: 0.0113\n",
      "Epoch 21/50\n",
      "63/63 [==============================] - 0s 1ms/step - loss: 0.0113\n",
      "Epoch 22/50\n",
      "63/63 [==============================] - 0s 1ms/step - loss: 0.0104\n",
      "Epoch 23/50\n",
      "63/63 [==============================] - 0s 1ms/step - loss: 0.0102\n",
      "Epoch 24/50\n",
      "63/63 [==============================] - 0s 1ms/step - loss: 0.0107\n",
      "Epoch 25/50\n",
      "63/63 [==============================] - 0s 1ms/step - loss: 0.0119\n",
      "Epoch 26/50\n",
      "63/63 [==============================] - 0s 1ms/step - loss: 0.0116\n",
      "Epoch 27/50\n",
      "63/63 [==============================] - 0s 1ms/step - loss: 0.0122\n",
      "Epoch 28/50\n",
      "63/63 [==============================] - 0s 1ms/step - loss: 0.0108\n",
      "Epoch 29/50\n",
      "63/63 [==============================] - 0s 1ms/step - loss: 0.0111\n",
      "Epoch 30/50\n",
      "63/63 [==============================] - 0s 1ms/step - loss: 0.0113\n",
      "Epoch 31/50\n",
      "63/63 [==============================] - 0s 1ms/step - loss: 0.0107\n",
      "Epoch 32/50\n",
      "63/63 [==============================] - 0s 1ms/step - loss: 0.0106\n",
      "Epoch 33/50\n",
      "63/63 [==============================] - 0s 1ms/step - loss: 0.0097\n",
      "Epoch 34/50\n",
      "63/63 [==============================] - 0s 1ms/step - loss: 0.0110\n",
      "Epoch 35/50\n",
      "63/63 [==============================] - 0s 1ms/step - loss: 0.0116\n",
      "Epoch 36/50\n",
      "63/63 [==============================] - 0s 1ms/step - loss: 0.0105\n",
      "Epoch 37/50\n",
      "63/63 [==============================] - 0s 1ms/step - loss: 0.0096\n",
      "Epoch 38/50\n",
      "63/63 [==============================] - 0s 1ms/step - loss: 0.0099\n",
      "Epoch 39/50\n",
      "63/63 [==============================] - 0s 1ms/step - loss: 0.0104\n",
      "Epoch 40/50\n",
      "63/63 [==============================] - 0s 993us/step - loss: 0.0120\n",
      "Epoch 41/50\n",
      "63/63 [==============================] - 0s 1ms/step - loss: 0.0113\n",
      "Epoch 42/50\n",
      "63/63 [==============================] - 0s 1ms/step - loss: 0.0101\n",
      "Epoch 43/50\n",
      "63/63 [==============================] - 0s 1ms/step - loss: 0.0124\n",
      "Epoch 44/50\n",
      "63/63 [==============================] - 0s 1ms/step - loss: 0.0107\n",
      "Epoch 45/50\n",
      "63/63 [==============================] - 0s 1ms/step - loss: 0.0096\n",
      "Epoch 46/50\n",
      "63/63 [==============================] - 0s 1ms/step - loss: 0.0106\n",
      "Epoch 47/50\n",
      "63/63 [==============================] - 0s 1ms/step - loss: 0.0103\n",
      "Epoch 48/50\n",
      "63/63 [==============================] - 0s 1ms/step - loss: 0.0099\n",
      "Epoch 49/50\n",
      "63/63 [==============================] - 0s 1ms/step - loss: 0.0094\n",
      "Epoch 50/50\n",
      "63/63 [==============================] - 0s 1ms/step - loss: 0.0098\n"
     ]
    },
    {
     "data": {
      "text/plain": [
       "<tensorflow.python.keras.callbacks.History at 0x7ff291b05860>"
      ]
     },
     "execution_count": 296,
     "metadata": {
      "tags": []
     },
     "output_type": "execute_result"
    }
   ],
   "source": [
    "ann_model = ann_regressor()\n",
    "ann_model.fit(train_set_X, train_set_Y, epochs=50)"
   ]
  },
  {
   "cell_type": "markdown",
   "metadata": {
    "id": "OeeCYjyC8oW2"
   },
   "source": [
    "## Mean Squared Error for ANN Model"
   ]
  },
  {
   "cell_type": "code",
   "execution_count": 298,
   "metadata": {
    "colab": {
     "base_uri": "https://localhost:8080/"
    },
    "id": "SIkLX5soyu2M",
    "outputId": "ba8d5a45-590c-4f8b-b17f-7ce2d23396da"
   },
   "outputs": [
    {
     "name": "stdout",
     "output_type": "stream",
     "text": [
      "Mean Squared Error for Test DataSet:  0.008072435404396705\n"
     ]
    }
   ],
   "source": [
    "y_predict =  ann_model.predict(test_set_X)\n",
    "print(\"Mean Squared Error for Test DataSet: \", mean_squared_error(test_set_Y, y_predict))"
   ]
  },
  {
   "cell_type": "markdown",
   "metadata": {
    "id": "P_sKnvWM8RVa"
   },
   "source": [
    "## Predict the same model using multivariable regression"
   ]
  },
  {
   "cell_type": "code",
   "execution_count": 299,
   "metadata": {
    "id": "gpzU54Ey3P6t"
   },
   "outputs": [],
   "source": [
    "def multivariable_regression():\n",
    "\n",
    "  from sklearn.linear_model import LinearRegression\n",
    "  import pandas as pd\n",
    "  import numpy as np\n",
    "  import matplotlib.pyplot as plt\n",
    "  from sklearn.preprocessing import StandardScaler\n",
    "  from sklearn.metrics import mean_squared_error\n",
    "\n",
    "  data = pd.read_csv(\"/content/drive/My Drive/Fall 20/IOT Analytics/Neural Nets project/5.csv\", header=None)\n",
    "  data.columns = ['x1', 'x2', 'x3', 'x4', 'x5','y']\n",
    "\n",
    "  X = data[['x1', 'x2', 'x3', 'x4', 'x5']]\n",
    "  Y = data[['y']]\n",
    "  scaler = StandardScaler()\n",
    "  X = scaler.fit_transform(X)\n",
    "  Y = scaler.fit_transform(Y)\n",
    "  print(\"X shape: \" , X.shape)\n",
    "  print(\"Y shape: \", Y.shape)\n",
    "  train_set_X = X[:2000]\n",
    "  train_set_Y = Y[:2000]\n",
    "  test_set_X = X[2000:]\n",
    "  test_set_Y = Y[2000:]\n",
    "\n",
    "  from sklearn.preprocessing import StandardScaler\n",
    "\n",
    "  reg = LinearRegression().fit(train_set_X, train_set_Y)\n",
    "  y_predict = reg.predict(test_set_X)\n",
    "  print(\"regression Coefficients: \" , reg.coef_)\n",
    "  print(\"regression intercept: \" , reg.intercept_)\n",
    "  print(\"r**2 value(Regression score): \", reg.score(X,Y))\n",
    "  print(\"Mean Squared Error for Test DataSet: \", mean_squared_error(test_set_Y, y_predict))\n",
    "\n"
   ]
  },
  {
   "cell_type": "markdown",
   "metadata": {
    "id": "E4rrL3428YZW"
   },
   "source": [
    "### Multivaribale Regression Scores, intercepts and Mean squared error on test dataset"
   ]
  },
  {
   "cell_type": "code",
   "execution_count": 300,
   "metadata": {
    "colab": {
     "base_uri": "https://localhost:8080/"
    },
    "id": "zLEe25QF8VYe",
    "outputId": "cc15eca7-7a47-4a9d-8ad0-c88bb63365e5"
   },
   "outputs": [
    {
     "name": "stdout",
     "output_type": "stream",
     "text": [
      "X shape:  (2300, 5)\n",
      "Y shape:  (2300, 1)\n",
      "regression Coefficients:  [[0.93991494 0.09039432 0.12019567 0.14235682 0.19749983]]\n",
      "regression intercept:  [0.00232456]\n",
      "r**2 value(Regression score):  0.9686213971459987\n",
      "Mean Squared Error for Test DataSet:  0.022677513667044066\n"
     ]
    }
   ],
   "source": [
    "multivariable_regression()"
   ]
  },
  {
   "cell_type": "code",
   "execution_count": 301,
   "metadata": {
    "colab": {
     "base_uri": "https://localhost:8080/"
    },
    "id": "j2Mm3P7-8WR0",
    "outputId": "4c593689-0047-491f-fff3-095ba5e0b107"
   },
   "outputs": [
    {
     "name": "stdout",
     "output_type": "stream",
     "text": [
      "Percentage accuracy better for ANN Model:  0.882141179344163\n"
     ]
    }
   ],
   "source": [
    "print(\"Percentage accuracy better for ANN Model: \" , (0.022677513667044066-0.0026727450162044384)/0.022677513667044066)"
   ]
  },
  {
   "cell_type": "markdown",
   "metadata": {
    "id": "awAbAFGf88s6"
   },
   "source": [
    "## Conclusion\n",
    "### Artificial Neural Network performs 88% percent better than multivariable regression model\n"
   ]
  },
  {
   "cell_type": "code",
   "execution_count": null,
   "metadata": {
    "id": "OpGpvKkEbXii"
   },
   "outputs": [],
   "source": []
  }
 ],
 "metadata": {
  "colab": {
   "collapsed_sections": [],
   "name": "Neural_nets and multivariable regression",
   "provenance": []
  },
  "kernelspec": {
   "display_name": "Python 3",
   "language": "python",
   "name": "python3"
  },
  "language_info": {
   "codemirror_mode": {
    "name": "ipython",
    "version": 3
   },
   "file_extension": ".py",
   "mimetype": "text/x-python",
   "name": "python",
   "nbconvert_exporter": "python",
   "pygments_lexer": "ipython3",
   "version": "3.7.4"
  }
 },
 "nbformat": 4,
 "nbformat_minor": 1
}
